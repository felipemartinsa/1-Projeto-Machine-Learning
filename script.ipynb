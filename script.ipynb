{
 "cells": [
  {
   "cell_type": "markdown",
   "id": "62ed3696",
   "metadata": {},
   "source": [
    "Baixando arquivo do url para o sistema e extraindo"
   ]
  },
  {
   "cell_type": "code",
   "execution_count": null,
   "id": "f7e0c251",
   "metadata": {},
   "outputs": [],
   "source": [
    "import requests\n",
    "import tarfile"
   ]
  },
  {
   "cell_type": "code",
   "execution_count": null,
   "id": "aa24d153",
   "metadata": {},
   "outputs": [],
   "source": [
    "URL = \"https://raw.githubusercontent.com/ageron/handson-ml2/master/datasets/housing/housing.tgz\"\n",
    "\n",
    "response = requests.get(URL)\n",
    "open(\"housing.tgz\", \"wb\").write(response.content)\n",
    "\n",
    "my_tar = tarfile.open('housing.tgz')\n",
    "my_tar.extractall() # specify which folder to extract to\n",
    "my_tar.close()"
   ]
  },
  {
   "cell_type": "markdown",
   "id": "6a18d6d9",
   "metadata": {},
   "source": [
    "Etapa de importação dos dados para o script e visualizações preliminares"
   ]
  },
  {
   "cell_type": "code",
   "execution_count": null,
   "id": "e3a3ecb1",
   "metadata": {},
   "outputs": [],
   "source": [
    "import pandas as pd\n",
    "import numpy as np"
   ]
  },
  {
   "cell_type": "code",
   "execution_count": null,
   "id": "dfe0a3cb",
   "metadata": {},
   "outputs": [],
   "source": [
    "df = pd.read_csv('housing.csv')\n",
    "\n",
    "df.head()"
   ]
  },
  {
   "cell_type": "code",
   "execution_count": null,
   "id": "283e611f",
   "metadata": {},
   "outputs": [],
   "source": [
    "df.info()"
   ]
  },
  {
   "cell_type": "code",
   "execution_count": null,
   "id": "f3e4ff33",
   "metadata": {},
   "outputs": [],
   "source": [
    "df['ocean_proximity'].value_counts()"
   ]
  },
  {
   "cell_type": "code",
   "execution_count": null,
   "id": "f7ff7c2b",
   "metadata": {},
   "outputs": [],
   "source": [
    "df.describe()"
   ]
  },
  {
   "cell_type": "code",
   "execution_count": null,
   "id": "08b4c31e",
   "metadata": {},
   "outputs": [],
   "source": [
    "import matplotlib.pyplot as plt\n",
    "df.hist(bins=50, figsize=(20,15))\n",
    "plt.show()"
   ]
  },
  {
   "cell_type": "markdown",
   "id": "4d8d36c5",
   "metadata": {},
   "source": [
    "Etapa de divisão de dados de treino e teste, aqui foi selecionado 20% dos dados para teste"
   ]
  },
  {
   "cell_type": "code",
   "execution_count": null,
   "id": "b7c8253b",
   "metadata": {},
   "outputs": [],
   "source": [
    "from sklearn.model_selection import train_test_split\n",
    "\n",
    "train_df, test_df = train_test_split(df, test_size = 0.2, random_state = 42)"
   ]
  },
  {
   "cell_type": "markdown",
   "id": "4e774717",
   "metadata": {},
   "source": [
    "Etapa de análise exploratória de dados"
   ]
  },
  {
   "cell_type": "code",
   "execution_count": null,
   "id": "76270f94",
   "metadata": {},
   "outputs": [],
   "source": [
    "train_ead = train_df.copy()"
   ]
  },
  {
   "cell_type": "code",
   "execution_count": null,
   "id": "c817140a",
   "metadata": {},
   "outputs": [],
   "source": [
    "train_ead.plot(kind = 'scatter', x = 'longitude', y = 'latitude', alpha = 0.4,\n",
    "              s = train_ead['population']/100, label = 'população', figsize = (10, 7),\n",
    "              c = 'median_house_value', cmap = plt.get_cmap('jet'), colorbar = True)"
   ]
  },
  {
   "cell_type": "code",
   "execution_count": null,
   "id": "9930990d",
   "metadata": {},
   "outputs": [],
   "source": [
    "corr_matrix = train_ead.corr()\n",
    "corr_matrix['median_house_value'].sort_values(ascending = False)"
   ]
  },
  {
   "cell_type": "code",
   "execution_count": null,
   "id": "5fdeba10",
   "metadata": {},
   "outputs": [],
   "source": [
    "attributes = [\"median_house_value\", \"median_income\", \"total_rooms\",\n",
    "\"housing_median_age\"]\n",
    "pd.plotting.scatter_matrix(train_ead[attributes], figsize=(12, 8))\n",
    "plt.show()"
   ]
  },
  {
   "cell_type": "markdown",
   "id": "3ea48d58",
   "metadata": {},
   "source": [
    "Combinando atributos"
   ]
  },
  {
   "cell_type": "code",
   "execution_count": null,
   "id": "6cac368d",
   "metadata": {},
   "outputs": [],
   "source": [
    "train_ead[\"rooms_per_household\"] = train_ead[\"total_rooms\"]/train_ead[\"households\"]\n",
    "train_ead[\"bedrooms_per_room\"] = train_ead[\"total_bedrooms\"]/train_ead[\"total_rooms\"]\n",
    "train_ead[\"population_per_household\"]=train_ead[\"population\"]/train_ead[\"households\"]\n",
    "\n",
    "corr_matrix = train_ead.corr()\n",
    "corr_matrix['median_house_value'].sort_values(ascending = False)"
   ]
  },
  {
   "cell_type": "markdown",
   "id": "8bcf4a82",
   "metadata": {},
   "source": [
    "Preparando os dados para o modelo"
   ]
  },
  {
   "cell_type": "markdown",
   "id": "3be25a92",
   "metadata": {},
   "source": [
    "Separando o atributo do label"
   ]
  },
  {
   "cell_type": "code",
   "execution_count": null,
   "id": "fb2034d3",
   "metadata": {},
   "outputs": [],
   "source": [
    "train_attbr = train_df.drop('median_house_value', axis = 1)\n",
    "train_labels = train_df['median_house_value'].copy()"
   ]
  },
  {
   "cell_type": "markdown",
   "id": "fa661b9a",
   "metadata": {},
   "source": [
    "Lidando com valores nulos"
   ]
  },
  {
   "cell_type": "code",
   "execution_count": null,
   "id": "f7ebd198",
   "metadata": {},
   "outputs": [],
   "source": [
    "train_attbr = train_attbr.dropna(subset = ['total_bedrooms'])"
   ]
  },
  {
   "cell_type": "markdown",
   "id": "467440d2",
   "metadata": {},
   "source": [
    "Lidandando com textos e argumentos categóricos"
   ]
  },
  {
   "cell_type": "code",
   "execution_count": null,
   "id": "9ec7f8f3",
   "metadata": {},
   "outputs": [],
   "source": [
    "train_attbr = pd.get_dummies(train_attbr, columns = ['ocean_proximity'])"
   ]
  },
  {
   "cell_type": "markdown",
   "id": "e86ac331",
   "metadata": {},
   "source": [
    "Sequência de Transformação"
   ]
  },
  {
   "cell_type": "code",
   "execution_count": null,
   "id": "0e636c9e",
   "metadata": {},
   "outputs": [],
   "source": [
    "from sklearn.pipeline import Pipeline\n",
    "from sklearn.preprocessing import StandardScaler\n",
    "from sklearn.compose import ColumnTransformer\n",
    "\n",
    "numeric_columns_train = train_attbr[list(train_attbr)].columns\n",
    "pipeline=ColumnTransformer([('num',StandardScaler(),numeric_columns_train)])\n",
    "\n",
    "train_attbr[list(train_attbr)] = pipeline.fit_transform(train_attbr)"
   ]
  },
  {
   "cell_type": "markdown",
   "id": "0b7ea3b0",
   "metadata": {},
   "source": [
    "Seleção e treino de modelo com dados de treino"
   ]
  },
  {
   "cell_type": "code",
   "execution_count": null,
   "id": "f5dafea3",
   "metadata": {},
   "outputs": [],
   "source": [
    "from sklearn.linear_model import LinearRegression\n",
    "\n",
    "lin_reg = LinearRegression()\n",
    "lin_reg.fit(train_attbr, train_labels)"
   ]
  },
  {
   "cell_type": "markdown",
   "id": "292a28d3",
   "metadata": {},
   "source": [
    "Avaliação do treino"
   ]
  },
  {
   "cell_type": "code",
   "execution_count": null,
   "id": "f88d540b",
   "metadata": {},
   "outputs": [],
   "source": [
    "from sklearn.metrics import mean_squared_error\n",
    "\n",
    "housing_predictions = lin_reg.predict(train_attbr)\n",
    "lin_mse = mean_squared_error(train_labels, housing_predictions)\n",
    "lin_rmse = np.sqrt(lin_mse)\n",
    "lin_rmse"
   ]
  },
  {
   "cell_type": "markdown",
   "id": "04072eb3",
   "metadata": {},
   "source": [
    "Selecionando um modelo mais robusto"
   ]
  },
  {
   "cell_type": "code",
   "execution_count": null,
   "id": "ca47fb1e",
   "metadata": {},
   "outputs": [],
   "source": [
    "from sklearn.tree import DecisionTreeRegressor\n",
    "\n",
    "tree_reg = DecisionTreeRegressor()\n",
    "tree_reg.fit(train_attbr, train_labels)"
   ]
  },
  {
   "cell_type": "code",
   "execution_count": null,
   "id": "5d3d07d2",
   "metadata": {},
   "outputs": [],
   "source": [
    "housing_predictions = tree_reg.predict(train_attbr)\n",
    "tree_mse = mean_squared_error(train_labels, housing_predictions)\n",
    "tree_rmse = np.sqrt(tree_mse)\n",
    "tree_rmse"
   ]
  },
  {
   "cell_type": "markdown",
   "id": "5aafdcc5",
   "metadata": {},
   "source": [
    "RMSE 0 indica overfitting, uso de CrossValidation para avaliar"
   ]
  },
  {
   "cell_type": "code",
   "execution_count": null,
   "id": "7d70c415",
   "metadata": {},
   "outputs": [],
   "source": [
    "from sklearn.model_selection import cross_val_score\n",
    "\n",
    "scores = cross_val_score(tree_reg, train_attbr, train_labels, scoring=\"neg_mean_squared_error\", cv=10)\n",
    "tree_rmse_scores = np.sqrt(-scores)\n",
    "tree_rmse_scores.mean()"
   ]
  },
  {
   "cell_type": "code",
   "execution_count": null,
   "id": "9c5677fe",
   "metadata": {},
   "outputs": [],
   "source": [
    "from sklearn.ensemble import RandomForestRegressor\n",
    "\n",
    "forest_reg = RandomForestRegressor()\n",
    "forest_reg.fit(train_attbr, train_labels)"
   ]
  },
  {
   "cell_type": "code",
   "execution_count": null,
   "id": "26990486",
   "metadata": {},
   "outputs": [],
   "source": [
    "housing_predictions = forest_reg.predict(train_attbr)\n",
    "forest_mse = mean_squared_error(train_labels, housing_predictions)\n",
    "forest_rmse = np.sqrt(forest_mse)\n",
    "forest_rmse"
   ]
  },
  {
   "cell_type": "code",
   "execution_count": null,
   "id": "e0ee1724",
   "metadata": {},
   "outputs": [],
   "source": [
    "scores = cross_val_score(forest_reg, train_attbr, train_labels, scoring=\"neg_mean_squared_error\", cv=10)\n",
    "forest_rmse_scores = np.sqrt(-scores)\n",
    "forest_rmse_scores.mean()"
   ]
  },
  {
   "cell_type": "markdown",
   "id": "b76bee46",
   "metadata": {},
   "source": [
    "Afinamento de modelo"
   ]
  },
  {
   "cell_type": "markdown",
   "id": "e8318004",
   "metadata": {},
   "source": [
    "Grid Search"
   ]
  },
  {
   "cell_type": "code",
   "execution_count": null,
   "id": "14bcf3f1",
   "metadata": {},
   "outputs": [],
   "source": [
    "from sklearn.model_selection import GridSearchCV\n",
    "\n",
    "param_grid = [\n",
    "    {'n_estimators': [3, 10, 30], 'max_features': [2, 4, 6, 8]},\n",
    "    {'bootstrap': [False], 'n_estimators': [3, 10], 'max_features': [2, 3, 4]},\n",
    "]\n",
    "\n",
    "forest_reg = RandomForestRegressor()\n",
    "\n",
    "grid_search = GridSearchCV(forest_reg, param_grid, cv=5, scoring='neg_mean_squared_error', return_train_score=True)\n",
    "\n",
    "grid_search.fit(train_attbr, train_labels)\n",
    "\n",
    "grid_search.best_params_"
   ]
  },
  {
   "cell_type": "markdown",
   "id": "edda4d0f",
   "metadata": {},
   "source": [
    "Aplicando nos dados de teste"
   ]
  },
  {
   "cell_type": "code",
   "execution_count": null,
   "id": "71085119",
   "metadata": {},
   "outputs": [],
   "source": [
    "test_work = test_df.copy()\n",
    "\n",
    "test_work = test_work.dropna(subset = ['total_bedrooms'])\n",
    "\n",
    "test_attbr = test_work.drop('median_house_value', axis = 1)\n",
    "test_labels = test_work['median_house_value'].copy()\n",
    "\n",
    "test_attbr = pd.get_dummies(test_attbr, columns = ['ocean_proximity'])\n",
    "\n",
    "numeric_columns_test = test_attbr[list(test_attbr)].columns\n",
    "pipeline=ColumnTransformer([('num',StandardScaler(),numeric_columns_test)])\n",
    "\n",
    "test_attbr[list(test_attbr)] = pipeline.fit_transform(test_attbr)"
   ]
  },
  {
   "cell_type": "code",
   "execution_count": null,
   "id": "d68a18f9",
   "metadata": {},
   "outputs": [],
   "source": [
    "final_model = grid_search.best_estimator_\n",
    "\n",
    "final_predictions = final_model.predict(test_attbr)\n",
    "\n",
    "final_mse = mean_squared_error(test_labels, final_predictions)\n",
    "final_rmse = np.sqrt(final_mse)"
   ]
  },
  {
   "cell_type": "code",
   "execution_count": null,
   "id": "e4f85308",
   "metadata": {},
   "outputs": [],
   "source": [
    "final_rmse"
   ]
  }
 ],
 "metadata": {
  "kernelspec": {
   "display_name": "Python 3",
   "language": "python",
   "name": "python3"
  },
  "language_info": {
   "codemirror_mode": {
    "name": "ipython",
    "version": 3
   },
   "file_extension": ".py",
   "mimetype": "text/x-python",
   "name": "python",
   "nbconvert_exporter": "python",
   "pygments_lexer": "ipython3",
   "version": "3.8.8"
  }
 },
 "nbformat": 4,
 "nbformat_minor": 5
}
